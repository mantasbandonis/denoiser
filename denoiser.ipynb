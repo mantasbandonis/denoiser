{
  "nbformat": 4,
  "nbformat_minor": 0,
  "metadata": {
    "colab": {
      "name": "Untitled0.ipynb",
      "provenance": [],
      "collapsed_sections": [],
      "authorship_tag": "ABX9TyPTqXRISKbHPiIsnYH0RQaV",
      "include_colab_link": true
    },
    "kernelspec": {
      "name": "python3",
      "display_name": "Python 3"
    },
    "language_info": {
      "name": "python"
    },
    "accelerator": "GPU"
  },
  "cells": [
    {
      "cell_type": "markdown",
      "metadata": {
        "id": "view-in-github",
        "colab_type": "text"
      },
      "source": [
        "<a href=\"https://colab.research.google.com/github/mantasbandonis/denoiser/blob/main/denoiser.ipynb\" target=\"_parent\"><img src=\"https://colab.research.google.com/assets/colab-badge.svg\" alt=\"Open In Colab\"/></a>"
      ]
    },
    {
      "cell_type": "code",
      "execution_count": 1,
      "metadata": {
        "id": "L8QFqoubtFBd",
        "colab": {
          "base_uri": "https://localhost:8080/"
        },
        "outputId": "a7fc267a-5a8c-4949-83df-1a070f263002"
      },
      "outputs": [
        {
          "output_type": "stream",
          "name": "stdout",
          "text": [
            "Cloning into 'denoiser'...\n",
            "remote: Enumerating objects: 13422, done.\u001b[K\n",
            "remote: Counting objects: 100% (413/413), done.\u001b[K\n",
            "remote: Compressing objects: 100% (240/240), done.\u001b[K\n",
            "remote: Total 13422 (delta 163), reused 381 (delta 147), pack-reused 13009\u001b[K\n",
            "Receiving objects: 100% (13422/13422), 287.51 MiB | 30.42 MiB/s, done.\n",
            "Resolving deltas: 100% (164/164), done.\n",
            "Checking out files: 100% (13041/13041), done.\n"
          ]
        }
      ],
      "source": [
        "!git clone https://github.com/mantasbandonis/denoiser"
      ]
    },
    {
      "cell_type": "code",
      "source": [
        "import os\n",
        "os.getcwd()"
      ],
      "metadata": {
        "colab": {
          "base_uri": "https://localhost:8080/",
          "height": 37
        },
        "id": "Y_o_Gv0XtieC",
        "outputId": "602136f8-bdc1-47d7-a740-e7c85db72b9a"
      },
      "execution_count": 9,
      "outputs": [
        {
          "output_type": "execute_result",
          "data": {
            "text/plain": [
              "'/content/denoiser'"
            ],
            "application/vnd.google.colaboratory.intrinsic+json": {
              "type": "string"
            }
          },
          "metadata": {},
          "execution_count": 9
        }
      ]
    },
    {
      "cell_type": "code",
      "source": [
        "%cd /content/denoiser"
      ],
      "metadata": {
        "id": "sDI-qp17tIGU",
        "colab": {
          "base_uri": "https://localhost:8080/"
        },
        "outputId": "a67457f4-7108-4997-aabc-f44d9f4afdbc"
      },
      "execution_count": 2,
      "outputs": [
        {
          "output_type": "stream",
          "name": "stdout",
          "text": [
            "/content/denoiser\n"
          ]
        }
      ]
    },
    {
      "cell_type": "code",
      "source": [
        "#%cd /content/denoiser/dataset/debug"
      ],
      "metadata": {
        "colab": {
          "base_uri": "https://localhost:8080/"
        },
        "id": "Nle6x_7A1P6p",
        "outputId": "de22806f-9b88-45ac-addf-36ba6b505b3d"
      },
      "execution_count": 16,
      "outputs": [
        {
          "output_type": "stream",
          "name": "stdout",
          "text": [
            "/content/denoiser/dataset/debug\n"
          ]
        }
      ]
    },
    {
      "cell_type": "code",
      "source": [
        "!pip install -r requirements.txt"
      ],
      "metadata": {
        "colab": {
          "base_uri": "https://localhost:8080/",
          "height": 1000
        },
        "id": "4hiWTDvbtSR4",
        "outputId": "d3b40e86-7102-4972-d381-813b4d386aa4"
      },
      "execution_count": 4,
      "outputs": [
        {
          "output_type": "stream",
          "name": "stdout",
          "text": [
            "Collecting pesq\n",
            "  Cloning https://github.com/ludlows/python-pesq to /tmp/pip-install-knditlb4/pesq_1207e4f9b2df43ab8b0e9f03064058ba\n",
            "  Running command git clone -q https://github.com/ludlows/python-pesq /tmp/pip-install-knditlb4/pesq_1207e4f9b2df43ab8b0e9f03064058ba\n",
            "Collecting hydra_core==0.11.3\n",
            "  Downloading hydra_core-0.11.3-py3-none-any.whl (72 kB)\n",
            "\u001b[K     |████████████████████████████████| 72 kB 541 kB/s \n",
            "\u001b[?25hCollecting hydra_colorlog==0.1.4\n",
            "  Downloading hydra_colorlog-0.1.4-py3-none-any.whl (4.0 kB)\n",
            "Collecting julius\n",
            "  Downloading julius-0.2.6.tar.gz (58 kB)\n",
            "\u001b[K     |████████████████████████████████| 58 kB 7.2 MB/s \n",
            "\u001b[?25hCollecting numpy==1.19.0\n",
            "  Downloading numpy-1.19.0-cp37-cp37m-manylinux2010_x86_64.whl (14.6 MB)\n",
            "\u001b[K     |████████████████████████████████| 14.6 MB 33.3 MB/s \n",
            "\u001b[?25hCollecting pystoi==0.3.3\n",
            "  Downloading pystoi-0.3.3.tar.gz (7.0 kB)\n",
            "Requirement already satisfied: six in /usr/local/lib/python3.7/dist-packages (from -r requirements.txt (line 7)) (1.15.0)\n",
            "Collecting sounddevice==0.4.0\n",
            "  Downloading sounddevice-0.4.0-py3-none-any.whl (31 kB)\n",
            "Collecting torchaudio==0.5.1\n",
            "  Downloading torchaudio-0.5.1-cp37-cp37m-manylinux1_x86_64.whl (3.2 MB)\n",
            "\u001b[K     |████████████████████████████████| 3.2 MB 32.1 MB/s \n",
            "\u001b[?25hCollecting torch==1.5.1\n",
            "  Downloading torch-1.5.1-cp37-cp37m-manylinux1_x86_64.whl (753.2 MB)\n",
            "\u001b[K     |████████████████████████████████| 753.2 MB 14 kB/s \n",
            "\u001b[?25hCollecting omegaconf<1.5,>=1.4\n",
            "  Downloading omegaconf-1.4.1-py3-none-any.whl (14 kB)\n",
            "Collecting colorlog\n",
            "  Downloading colorlog-6.6.0-py2.py3-none-any.whl (11 kB)\n",
            "Requirement already satisfied: scipy in /usr/local/lib/python3.7/dist-packages (from pystoi==0.3.3->-r requirements.txt (line 5)) (1.4.1)\n",
            "Requirement already satisfied: CFFI>=1.0 in /usr/local/lib/python3.7/dist-packages (from sounddevice==0.4.0->-r requirements.txt (line 8)) (1.15.0)\n",
            "Requirement already satisfied: future in /usr/local/lib/python3.7/dist-packages (from torch==1.5.1->-r requirements.txt (line 10)) (0.16.0)\n",
            "Requirement already satisfied: pycparser in /usr/local/lib/python3.7/dist-packages (from CFFI>=1.0->sounddevice==0.4.0->-r requirements.txt (line 8)) (2.21)\n",
            "Requirement already satisfied: PyYAML in /usr/local/lib/python3.7/dist-packages (from omegaconf<1.5,>=1.4->hydra_core==0.11.3->-r requirements.txt (line 1)) (3.13)\n",
            "Collecting julius\n",
            "  Downloading julius-0.2.5.tar.gz (58 kB)\n",
            "\u001b[K     |████████████████████████████████| 58 kB 7.1 MB/s \n",
            "\u001b[?25h  Downloading julius-0.2.4.tar.gz (54 kB)\n",
            "\u001b[K     |████████████████████████████████| 54 kB 3.2 MB/s \n",
            "\u001b[?25h  Downloading julius-0.2.3.tar.gz (41 kB)\n",
            "\u001b[K     |████████████████████████████████| 41 kB 680 kB/s \n",
            "\u001b[?25h  Downloading julius-0.2.2.tar.gz (41 kB)\n",
            "\u001b[K     |████████████████████████████████| 41 kB 181 kB/s \n",
            "\u001b[?25h  Downloading julius-0.2.1.tar.gz (40 kB)\n",
            "\u001b[K     |████████████████████████████████| 40 kB 6.5 MB/s \n",
            "\u001b[?25h  Downloading julius-0.2.0.tar.gz (40 kB)\n",
            "\u001b[K     |████████████████████████████████| 40 kB 6.3 MB/s \n",
            "\u001b[?25h  Downloading julius-0.1.2.tar.gz (6.5 kB)\n",
            "Building wheels for collected packages: pesq, pystoi, julius\n",
            "  Building wheel for pesq (setup.py) ... \u001b[?25l\u001b[?25hdone\n",
            "  Created wheel for pesq: filename=pesq-0.0.3-cp37-cp37m-linux_x86_64.whl size=211368 sha256=3d38447b5c95d07e90b3b129c5680aef6c37515820bb2ab9e9fbe1f9d2e0da09\n",
            "  Stored in directory: /tmp/pip-ephem-wheel-cache-uqpmwsyl/wheels/0b/a2/5e/e3c14ca4f8ffc7aefbd5353da9bf0c9352dee971def604df50\n",
            "  Building wheel for pystoi (setup.py) ... \u001b[?25l\u001b[?25hdone\n",
            "  Created wheel for pystoi: filename=pystoi-0.3.3-py2.py3-none-any.whl size=7793 sha256=f96cb3ee374381806508aaade95b9a95832d2ddeb21127a50dfb894eec5e3745\n",
            "  Stored in directory: /root/.cache/pip/wheels/46/4a/ad/3ab460193ed0535430b4b1575f255aa6bae69df17453628e86\n",
            "  Building wheel for julius (setup.py) ... \u001b[?25l\u001b[?25hdone\n",
            "  Created wheel for julius: filename=julius-0.1.2-py3-none-any.whl size=5122 sha256=d8cc75a2d6e58394e2ba25ce9614af9e97532efe9f2a0037bf7a1cb2cc32d7c1\n",
            "  Stored in directory: /root/.cache/pip/wheels/2c/f1/f3/b8686526a06ea8a96d4d31be85762ef9bdaa472de6ab27faeb\n",
            "Successfully built pesq pystoi julius\n",
            "Installing collected packages: omegaconf, numpy, torch, hydra-core, colorlog, torchaudio, sounddevice, pystoi, pesq, julius, hydra-colorlog\n",
            "  Attempting uninstall: numpy\n",
            "    Found existing installation: numpy 1.21.6\n",
            "    Uninstalling numpy-1.21.6:\n",
            "      Successfully uninstalled numpy-1.21.6\n",
            "  Attempting uninstall: torch\n",
            "    Found existing installation: torch 1.11.0+cu113\n",
            "    Uninstalling torch-1.11.0+cu113:\n",
            "      Successfully uninstalled torch-1.11.0+cu113\n",
            "  Attempting uninstall: torchaudio\n",
            "    Found existing installation: torchaudio 0.11.0+cu113\n",
            "    Uninstalling torchaudio-0.11.0+cu113:\n",
            "      Successfully uninstalled torchaudio-0.11.0+cu113\n",
            "\u001b[31mERROR: pip's dependency resolver does not currently take into account all the packages that are installed. This behaviour is the source of the following dependency conflicts.\n",
            "tensorflow 2.8.0 requires tf-estimator-nightly==2.8.0.dev2021122109, which is not installed.\n",
            "torchvision 0.12.0+cu113 requires torch==1.11.0, but you have torch 1.5.1 which is incompatible.\n",
            "torchtext 0.12.0 requires torch==1.11.0, but you have torch 1.5.1 which is incompatible.\n",
            "tensorflow 2.8.0 requires numpy>=1.20, but you have numpy 1.19.0 which is incompatible.\n",
            "datascience 0.10.6 requires folium==0.2.1, but you have folium 0.8.3 which is incompatible.\n",
            "albumentations 0.1.12 requires imgaug<0.2.7,>=0.2.5, but you have imgaug 0.2.9 which is incompatible.\u001b[0m\n",
            "Successfully installed colorlog-6.6.0 hydra-colorlog-0.1.4 hydra-core-0.11.3 julius-0.1.2 numpy-1.19.0 omegaconf-1.4.1 pesq-0.0.3 pystoi-0.3.3 sounddevice-0.4.0 torch-1.5.1 torchaudio-0.5.1\n"
          ]
        },
        {
          "output_type": "display_data",
          "data": {
            "application/vnd.colab-display-data+json": {
              "pip_warning": {
                "packages": [
                  "numpy"
                ]
              }
            }
          },
          "metadata": {}
        }
      ]
    },
    {
      "cell_type": "code",
      "source": [
        "%mkdir denoiser/dataset/debug/out"
      ],
      "metadata": {
        "id": "ANLoOY3WzaQO"
      },
      "execution_count": 12,
      "outputs": []
    },
    {
      "cell_type": "code",
      "source": [
        "!pip install denoiser"
      ],
      "metadata": {
        "colab": {
          "base_uri": "https://localhost:8080/"
        },
        "id": "d9WiE3301U0e",
        "outputId": "425c4d3c-c41b-4ebe-df07-0ebc97e2c1a2"
      },
      "execution_count": 18,
      "outputs": [
        {
          "output_type": "stream",
          "name": "stdout",
          "text": [
            "Collecting denoiser\n",
            "  Downloading denoiser-0.1.4.tar.gz (48 kB)\n",
            "\u001b[?25l\r\u001b[K     |██████▊                         | 10 kB 34.8 MB/s eta 0:00:01\r\u001b[K     |█████████████▌                  | 20 kB 25.6 MB/s eta 0:00:01\r\u001b[K     |████████████████████▎           | 30 kB 19.5 MB/s eta 0:00:01\r\u001b[K     |███████████████████████████     | 40 kB 7.8 MB/s eta 0:00:01\r\u001b[K     |████████████████████████████████| 48 kB 4.1 MB/s \n",
            "\u001b[?25hRequirement already satisfied: hydra_core<1.0 in /usr/local/lib/python3.7/dist-packages (from denoiser) (0.11.3)\n",
            "Requirement already satisfied: hydra_colorlog<1.0 in /usr/local/lib/python3.7/dist-packages (from denoiser) (0.1.4)\n",
            "Requirement already satisfied: numpy>=1.19 in /usr/local/lib/python3.7/dist-packages (from denoiser) (1.19.0)\n",
            "Requirement already satisfied: pystoi>=0.3.3 in /usr/local/lib/python3.7/dist-packages (from denoiser) (0.3.3)\n",
            "Requirement already satisfied: six in /usr/local/lib/python3.7/dist-packages (from denoiser) (1.15.0)\n",
            "Requirement already satisfied: sounddevice>=0.4 in /usr/local/lib/python3.7/dist-packages (from denoiser) (0.4.0)\n",
            "Requirement already satisfied: torch>=1.5 in /usr/local/lib/python3.7/dist-packages (from denoiser) (1.5.1)\n",
            "Requirement already satisfied: torchaudio>=0.5 in /usr/local/lib/python3.7/dist-packages (from denoiser) (0.5.1)\n",
            "Requirement already satisfied: colorlog in /usr/local/lib/python3.7/dist-packages (from hydra_colorlog<1.0->denoiser) (6.6.0)\n",
            "Requirement already satisfied: omegaconf<1.5,>=1.4 in /usr/local/lib/python3.7/dist-packages (from hydra_core<1.0->denoiser) (1.4.1)\n",
            "Requirement already satisfied: PyYAML in /usr/local/lib/python3.7/dist-packages (from omegaconf<1.5,>=1.4->hydra_core<1.0->denoiser) (3.13)\n",
            "Requirement already satisfied: scipy in /usr/local/lib/python3.7/dist-packages (from pystoi>=0.3.3->denoiser) (1.4.1)\n",
            "Requirement already satisfied: CFFI>=1.0 in /usr/local/lib/python3.7/dist-packages (from sounddevice>=0.4->denoiser) (1.15.0)\n",
            "Requirement already satisfied: pycparser in /usr/local/lib/python3.7/dist-packages (from CFFI>=1.0->sounddevice>=0.4->denoiser) (2.21)\n",
            "Requirement already satisfied: future in /usr/local/lib/python3.7/dist-packages (from torch>=1.5->denoiser) (0.16.0)\n",
            "Building wheels for collected packages: denoiser\n",
            "  Building wheel for denoiser (setup.py) ... \u001b[?25l\u001b[?25hdone\n",
            "  Created wheel for denoiser: filename=denoiser-0.1.4-py3-none-any.whl size=42782 sha256=c6865ce1097fe04c740962b4dfd2863dd04c7945680dcf2f9537c4cd306319f3\n",
            "  Stored in directory: /root/.cache/pip/wheels/76/d9/3d/f34ed4201f8090d6c2adf117ba05acec0c4635d0ed7416e0d9\n",
            "Successfully built denoiser\n",
            "Installing collected packages: denoiser\n",
            "Successfully installed denoiser-0.1.4\n"
          ]
        }
      ]
    },
    {
      "cell_type": "code",
      "source": [
        "!python -m denoiser.audio"
      ],
      "metadata": {
        "colab": {
          "base_uri": "https://localhost:8080/"
        },
        "id": "BsRTwEa21Mgu",
        "outputId": "53b69edb-1f8d-4587-f519-b81c45f4d33c"
      },
      "execution_count": 5,
      "outputs": [
        {
          "output_type": "stream",
          "name": "stdout",
          "text": [
            "[]"
          ]
        }
      ]
    },
    {
      "cell_type": "code",
      "source": [
        "!pip install pycocotools==2.0.0"
      ],
      "metadata": {
        "colab": {
          "base_uri": "https://localhost:8080/"
        },
        "id": "SKFzU8kl22Wz",
        "outputId": "c3009880-cccb-4dd8-b105-9cd93ed332d0"
      },
      "execution_count": 7,
      "outputs": [
        {
          "output_type": "stream",
          "name": "stdout",
          "text": [
            "Collecting pycocotools==2.0.0\n",
            "  Downloading pycocotools-2.0.0.tar.gz (1.5 MB)\n",
            "\u001b[K     |████████████████████████████████| 1.5 MB 5.1 MB/s \n",
            "\u001b[?25hBuilding wheels for collected packages: pycocotools\n",
            "  Building wheel for pycocotools (setup.py) ... \u001b[?25l\u001b[?25hdone\n",
            "  Created wheel for pycocotools: filename=pycocotools-2.0.0-cp37-cp37m-linux_x86_64.whl size=264716 sha256=75e80207db0ef49cc6bdb5c8eec98e3c4885f9e16f35798e5876e9821aa88117\n",
            "  Stored in directory: /root/.cache/pip/wheels/4d/50/dc/e1f07e9eb5678a0ee21bc091220f1f3806ba8e48ef3f2083cb\n",
            "Successfully built pycocotools\n",
            "Installing collected packages: pycocotools\n",
            "  Attempting uninstall: pycocotools\n",
            "    Found existing installation: pycocotools 2.0.4\n",
            "    Uninstalling pycocotools-2.0.4:\n",
            "      Successfully uninstalled pycocotools-2.0.4\n",
            "Successfully installed pycocotools-2.0.0\n"
          ]
        }
      ]
    },
    {
      "cell_type": "code",
      "source": [
        "%mkdir egs/debug/tr\n",
        "!python -m denoiser.audio dataset/debug/noisy > egs/debug/tr/noisy.json\n",
        "!python -m denoiser.audio dataset/debug/clean > egs/debug/tr/clean.json"
      ],
      "metadata": {
        "colab": {
          "base_uri": "https://localhost:8080/"
        },
        "id": "E-zmEWrA3Oh9",
        "outputId": "6c30a54c-3130-48fa-a468-45adef15faa8"
      },
      "execution_count": 13,
      "outputs": [
        {
          "output_type": "stream",
          "name": "stdout",
          "text": [
            ""
          ]
        }
      ]
    },
    {
      "cell_type": "code",
      "source": [
        "! ./train.py"
      ],
      "metadata": {
        "colab": {
          "base_uri": "https://localhost:8080/"
        },
        "id": "97ySCIW1zvoX",
        "outputId": "9a7ce0d5-c8e6-456c-f39a-9618fa7ff126"
      },
      "execution_count": 14,
      "outputs": [
        {
          "output_type": "stream",
          "name": "stdout",
          "text": [
            "[\u001b[36m2022-04-28 20:35:30,862\u001b[0m][\u001b[34m__main__\u001b[0m][\u001b[32mINFO\u001b[0m] - For logs, checkpoints and samples check /content/denoiser/outputs/exp_\u001b[0m\n",
            "[\u001b[36m2022-04-28 20:35:31,631\u001b[0m][\u001b[34m__main__\u001b[0m][\u001b[31mERROR\u001b[0m] - Some error happened\u001b[0m\n",
            "Traceback (most recent call last):\n",
            "  File \"./train.py\", line 105, in main\n",
            "    _main(args)\n",
            "  File \"./train.py\", line 99, in _main\n",
            "    run(args)\n",
            "  File \"./train.py\", line 53, in run\n",
            "    args.dset.train, length=length, stride=stride, pad=args.pad, **kwargs)\n",
            "  File \"/content/denoiser/denoiser/data.py\", line 93, in __init__\n",
            "    assert len(self.clean_set) == len(self.noisy_set)\n",
            "AssertionError\n"
          ]
        }
      ]
    }
  ]
}